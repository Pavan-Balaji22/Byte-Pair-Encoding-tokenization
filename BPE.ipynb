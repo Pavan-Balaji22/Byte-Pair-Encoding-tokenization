{
 "cells": [
  {
   "cell_type": "code",
   "execution_count": 1,
   "metadata": {},
   "outputs": [],
   "source": [
    "import numpy as np\n",
    "import torch \n",
    "import torch.nn as nn\n",
    "import torch.nn.functional as F\n",
    "import regex as re"
   ]
  },
  {
   "cell_type": "code",
   "execution_count": 2,
   "metadata": {},
   "outputs": [
    {
     "data": {
      "text/plain": [
       "1115394"
      ]
     },
     "execution_count": 2,
     "metadata": {},
     "output_type": "execute_result"
    }
   ],
   "source": [
    "data= open(\"../datasets/llm/shakeshpere.txt\",encoding=\"utf-8\", mode =\"r\").read()\n",
    "len(data)\n",
    "bytesData = [x for x in data.encode(errors=\"replace\")]\n",
    "x =ord(\"a\")\n",
    "len(bytesData)"
   ]
  },
  {
   "cell_type": "code",
   "execution_count": 35,
   "metadata": {},
   "outputs": [],
   "source": [
    "class BPETokenizer:\n",
    "    def __init__(self, nmerges: int):\n",
    "        self.nextByte: int= 256\n",
    "        self.nmerges: int = nmerges\n",
    "        pass\n",
    "    \n",
    "    def _get_counts(self,byteData:list):\n",
    "        counts = {}\n",
    "        for i,j in zip(byteData,byteData[1:]):\n",
    "            counts[i,j]=counts.get((i,j),0)+1\n",
    "        return counts\n",
    "\n",
    "    def _do_merges(self,keys:tuple,token:int,byteData: list) -> list:\n",
    "        i=0\n",
    "        while i < (len(byteData)-1):\n",
    "            i+=1\n",
    "            if byteData[i] == keys[0] and byteData[i+1] == keys[1]:\n",
    "                byteData[i] = token\n",
    "                byteData.pop(i+1)\n",
    "                i+=1\n",
    "        return byteData\n",
    "    \n",
    "    def train(self,text:str):\n",
    "        self.bytesData = [x for x in text.encode(errors=\"replace\")]\n",
    "        self.merges_dict: dict = {}\n",
    "        for x in range(self.nmerges):\n",
    "            bp_counts = self._get_counts(self.bytesData)\n",
    "            req_key = max(bp_counts.items(),key=lambda x:x[1])[0]\n",
    "            self.merges_dict[req_key] = self.nextByte + x\n",
    "            self.bytesData = self._do_merges(req_key,self.nextByte+x,self.bytesData)\n",
    "        \n",
    "        self.decode_dict = {v:k for k,v in self.merges_dict.items()}\n",
    "        \n",
    "\n",
    "    def encode(self,text:str) -> list:\n",
    "        tokens = [x for x in text.encode(errors=\"replace\")]\n",
    "        i=0\n",
    "        while i < (len(tokens)):\n",
    "            \n",
    "            if i < (len(tokens)-1) and self.merges_dict.get((tokens[i],tokens[i+1]),False):\n",
    "                tokens[i] = self.merges_dict[(tokens[i],tokens[i+1])]\n",
    "                tokens.pop(i+1)\n",
    "                i+=1\n",
    "            else:\n",
    "                i+=1\n",
    "        \n",
    "        return tokens\n",
    "                \n",
    "\n",
    "    def decode(self,tokens:list) -> str:\n",
    "        bytes = []\n",
    "        i=0\n",
    "        while i < (len(tokens)):\n",
    "            \n",
    "            if self.decode_dict.get(tokens[i],False):\n",
    "                bytes.extend(self.decode_dict[tokens[i]])\n",
    "                i+=1\n",
    "            else:\n",
    "                bytes.extend([tokens[i]])\n",
    "                i+=1\n",
    "        return \"\".join([chr(x) for x in bytes])"
   ]
  },
  {
   "cell_type": "code",
   "execution_count": 36,
   "metadata": {},
   "outputs": [],
   "source": [
    "tokenizer = BPETokenizer(10)"
   ]
  },
  {
   "cell_type": "code",
   "execution_count": 37,
   "metadata": {},
   "outputs": [],
   "source": [
    "tokenizer.train(data)"
   ]
  },
  {
   "cell_type": "code",
   "execution_count": 38,
   "metadata": {},
   "outputs": [
    {
     "data": {
      "text/plain": [
       "[72, 101, 108, 108, 111]"
      ]
     },
     "execution_count": 38,
     "metadata": {},
     "output_type": "execute_result"
    }
   ],
   "source": [
    "tokenizer.encode(\"Hello\")"
   ]
  },
  {
   "cell_type": "code",
   "execution_count": 41,
   "metadata": {},
   "outputs": [
    {
     "data": {
      "text/plain": [
       "'First Citizen:\\nBefore we proceed any further, hear me speak.\\n\\nAll:\\nSpeak, speak.\\n\\nFirst Citizen:\\nYou'"
      ]
     },
     "execution_count": 41,
     "metadata": {},
     "output_type": "execute_result"
    }
   ],
   "source": [
    "tokenizer.decode(tokenizer.encode(data[:100]))"
   ]
  },
  {
   "cell_type": "code",
   "execution_count": 42,
   "metadata": {},
   "outputs": [
    {
     "data": {
      "text/plain": [
       "'First Citizen:\\nBefore we proceed any further, hear me speak.\\n\\nAll:\\nSpeak, speak.\\n\\nFirst Citizen:\\nYou'"
      ]
     },
     "execution_count": 42,
     "metadata": {},
     "output_type": "execute_result"
    }
   ],
   "source": [
    "data[:100]"
   ]
  },
  {
   "cell_type": "code",
   "execution_count": 21,
   "metadata": {},
   "outputs": [
    {
     "data": {
      "text/plain": [
       "121"
      ]
     },
     "execution_count": 21,
     "metadata": {},
     "output_type": "execute_result"
    }
   ],
   "source": [
    "ord(\"y\")"
   ]
  },
  {
   "cell_type": "code",
   "execution_count": 34,
   "metadata": {},
   "outputs": [
    {
     "data": {
      "text/plain": [
       "{(101, 32): 256,\n",
       " (116, 104): 256,\n",
       " (116, 32): 256,\n",
       " (115, 32): 256,\n",
       " (100, 32): 256,\n",
       " (44, 32): 256,\n",
       " (111, 117): 256,\n",
       " (101, 114): 256,\n",
       " (105, 110): 256,\n",
       " (121, 32): 256}"
      ]
     },
     "execution_count": 34,
     "metadata": {},
     "output_type": "execute_result"
    }
   ],
   "source": [
    "tokenizer.merges_dict"
   ]
  },
  {
   "cell_type": "code",
   "execution_count": null,
   "metadata": {},
   "outputs": [],
   "source": []
  }
 ],
 "metadata": {
  "kernelspec": {
   "display_name": "deeplearning",
   "language": "python",
   "name": "python3"
  },
  "language_info": {
   "codemirror_mode": {
    "name": "ipython",
    "version": 3
   },
   "file_extension": ".py",
   "mimetype": "text/x-python",
   "name": "python",
   "nbconvert_exporter": "python",
   "pygments_lexer": "ipython3",
   "version": "3.11.7"
  }
 },
 "nbformat": 4,
 "nbformat_minor": 2
}
