{
 "cells": [
  {
   "cell_type": "code",
   "execution_count": 132,
   "metadata": {},
   "outputs": [],
   "source": [
    "import numpy as np\n",
    "import torch \n",
    "import torch.nn as nn\n",
    "import torch.nn.functional as F\n",
    "import regex as re"
   ]
  },
  {
   "cell_type": "code",
   "execution_count": 133,
   "metadata": {},
   "outputs": [
    {
     "data": {
      "text/plain": [
       "1115394"
      ]
     },
     "execution_count": 133,
     "metadata": {},
     "output_type": "execute_result"
    }
   ],
   "source": [
    "data = open(\"../datasets/llm/shakeshpere.txt\",encoding=\"utf-8\", mode =\"r\").read()\n",
    "len(data)\n",
    "bytesData = [x for x in data.encode(errors=\"replace\")]\n",
    "x =ord(\"a\")\n",
    "len(bytesData)"
   ]
  },
  {
   "cell_type": "code",
   "execution_count": null,
   "metadata": {},
   "outputs": [],
   "source": [
    "nextByte = 256\n",
    "merges_dict = {}\n",
    "def get_counts(byteData):\n",
    "    counts = {}\n",
    "    for i,j in zip(byteData,byteData[1:]):\n",
    "        counts[i,j]=counts.get((i,j),0)+1\n",
    "    return counts\n",
    "\n",
    "def do_merges(keys,token,byteData):\n",
    "    i=0\n",
    "    while i < (len(byteData)-1):\n",
    "        i+=1\n",
    "        if byteData[i] == keys[0] and byteData[i+1] == keys[1]:\n",
    "            byteData[i] = token\n",
    "            byteData.pop(i+1)\n",
    "            i+=1\n",
    "    return byteData       \n"
   ]
  },
  {
   "cell_type": "code",
   "execution_count": null,
   "metadata": {},
   "outputs": [
    {
     "name": "stdout",
     "output_type": "stream",
     "text": [
      "(101, 32)\n",
      "(116, 104)\n",
      "(116, 32)\n",
      "(115, 32)\n",
      "(100, 32)\n",
      "(44, 32)\n",
      "(111, 117)\n",
      "(101, 114)\n",
      "(105, 110)\n",
      "(121, 32)\n"
     ]
    }
   ],
   "source": [
    "\n",
    "for x in range(10):\n",
    "    bp_counts = get_counts()\n",
    "    req_key = max(bp_counts.items(),key=lambda x:x[1])[0]\n",
    "    print(req_key)\n",
    "    merges_dict[req_key] = nextByte\n",
    "    # print(len(data_bytes))\n",
    "    bytesData = do_merges(req_key,nextByte)\n",
    "    nextByte+=1\n"
   ]
  }
 ],
 "metadata": {
  "kernelspec": {
   "display_name": "deeplearning",
   "language": "python",
   "name": "python3"
  },
  "language_info": {
   "codemirror_mode": {
    "name": "ipython",
    "version": 3
   },
   "file_extension": ".py",
   "mimetype": "text/x-python",
   "name": "python",
   "nbconvert_exporter": "python",
   "pygments_lexer": "ipython3",
   "version": "3.11.7"
  }
 },
 "nbformat": 4,
 "nbformat_minor": 2
}
